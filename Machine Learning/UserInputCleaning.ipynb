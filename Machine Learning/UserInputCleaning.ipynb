{
 "cells": [
  {
   "cell_type": "code",
   "execution_count": 2,
   "id": "ee6da310",
   "metadata": {},
   "outputs": [],
   "source": [
    "input_dict = {'home_away': 'This', 'bet_ml': 'is', 'value_ml': 'Kit', 'bet_spread': 'Running', 'value_spread': 'A', 'bet_ou': 'Test', 'value_ou': '!'}"
   ]
  },
  {
   "cell_type": "code",
   "execution_count": 3,
   "id": "9ea7464b",
   "metadata": {},
   "outputs": [
    {
     "data": {
      "text/plain": [
       "{'home_away': 'This',\n",
       " 'bet_ml': 'is',\n",
       " 'value_ml': 'Kit',\n",
       " 'bet_spread': 'Running',\n",
       " 'value_spread': 'A',\n",
       " 'bet_ou': 'Test',\n",
       " 'value_ou': '!'}"
      ]
     },
     "execution_count": 3,
     "metadata": {},
     "output_type": "execute_result"
    }
   ],
   "source": [
    "input_dict"
   ]
  },
  {
   "cell_type": "code",
   "execution_count": 14,
   "id": "e61b8568",
   "metadata": {},
   "outputs": [
    {
     "data": {
      "text/plain": [
       "'This'"
      ]
     },
     "execution_count": 14,
     "metadata": {},
     "output_type": "execute_result"
    }
   ],
   "source": [
    "input_dict['home_away']"
   ]
  },
  {
   "cell_type": "code",
   "execution_count": 25,
   "id": "e5b87c28",
   "metadata": {},
   "outputs": [],
   "source": [
    "def clean_inputs(dict):\n",
    "    \n",
    "    # HOME VS AWAY \n",
    "    team = dict['home_away']\n",
    "    # Need a column for home and a column for away, not combined (check ML)\n",
    "    if team.lower() == 'home':\n",
    "        dict['home'] = 1\n",
    "        dict['away'] = 0\n",
    "        del dict['home_away']\n",
    "    else:\n",
    "        dict['home'] = 0\n",
    "        dict['away'] = 1\n",
    "        del dict['home_away']\n",
    "    \n",
    "    bet_ml = dict['bet_ml']\n",
    "    dict['bet_ml'] = float(bet_ml)\n",
    "    \n",
    "    value_ml = dict['value_ml']\n",
    "    dict['value_ml'] = float(value_ml)\n",
    "    \n",
    "    bet_spread = dict['bet_spread']\n",
    "    dict['bet_spread'] = float(bet_spread)\n",
    "    \n",
    "    value_spread = dict['value_spread']\n",
    "    dict['value_spread'] = float(value_spread)\n",
    "    \n",
    "    bet_ou = dict['bet_ou']\n",
    "    dict['bet_ou'] = float(bet_ou)\n",
    "    \n",
    "    value_ou = dict['value_ou']\n",
    "    dict['value_ou'] = float(value_ou)\n",
    "    \n",
    "    return dict "
   ]
  },
  {
   "cell_type": "markdown",
   "id": "377e71ec",
   "metadata": {},
   "source": [
    "Moneyline"
   ]
  },
  {
   "cell_type": "code",
   "execution_count": 20,
   "id": "2172af04",
   "metadata": {},
   "outputs": [
    {
     "data": {
      "text/plain": [
       "['Average_Line_ML',\n",
       " 'Average_Line_OU',\n",
       " 'Average_Line_Spread',\n",
       " 'Average_Odds_OU',\n",
       " 'Average_Odds_Spread',\n",
       " 'Location',\n",
       " 'MoneyLine WL',\n",
       " 'PercentBet_ML',\n",
       " 'PercentBet_OU',\n",
       " 'PercentBet_Spread']"
      ]
     },
     "execution_count": 20,
     "metadata": {},
     "output_type": "execute_result"
    }
   ],
   "source": [
    "list(sorted(['Location','PercentBet_ML','Average_Odds_OU','Average_Line_ML','PercentBet_Spread','Average_Line_Spread','Average_Odds_Spread','PercentBet_OU','Average_Line_OU','MoneyLine WL']))"
   ]
  },
  {
   "cell_type": "markdown",
   "id": "11361fa6",
   "metadata": {},
   "source": [
    "Spread"
   ]
  },
  {
   "cell_type": "code",
   "execution_count": 21,
   "id": "66add6d8",
   "metadata": {},
   "outputs": [
    {
     "data": {
      "text/plain": [
       "['Average_Line_ML',\n",
       " 'Average_Line_OU',\n",
       " 'Average_Odds_OU',\n",
       " 'Average_Odds_Spread',\n",
       " 'Location',\n",
       " 'PercentBet_OU',\n",
       " 'Spread WL']"
      ]
     },
     "execution_count": 21,
     "metadata": {},
     "output_type": "execute_result"
    }
   ],
   "source": [
    "list(sorted(['Location','Average_Line_ML','Average_Odds_Spread','PercentBet_OU','Average_Line_OU','Average_Odds_OU','Spread WL']))"
   ]
  },
  {
   "cell_type": "markdown",
   "id": "fd26d7ef",
   "metadata": {},
   "source": [
    "Over/Under"
   ]
  },
  {
   "cell_type": "code",
   "execution_count": 22,
   "id": "84e2e32c",
   "metadata": {},
   "outputs": [
    {
     "data": {
      "text/plain": [
       "['Average_Line_ML',\n",
       " 'Average_Line_OU',\n",
       " 'Average_Line_Spread',\n",
       " 'Average_Odds_OU',\n",
       " 'Average_Odds_Spread',\n",
       " 'Location',\n",
       " 'Over/Under WL',\n",
       " 'PercentBet_ML',\n",
       " 'PercentBet_OU',\n",
       " 'PercentBet_Spread']"
      ]
     },
     "execution_count": 22,
     "metadata": {},
     "output_type": "execute_result"
    }
   ],
   "source": [
    "list(sorted(['Location','Average_Odds_OU','PercentBet_ML','Average_Line_ML','PercentBet_Spread','Average_Line_Spread','Average_Odds_Spread','PercentBet_OU','Average_Line_OU','Over/Under WL']))"
   ]
  },
  {
   "cell_type": "code",
   "execution_count": 8,
   "id": "eb185d08",
   "metadata": {},
   "outputs": [
    {
     "name": "stdout",
     "output_type": "stream",
     "text": [
      "<class 'str'>\n",
      "<class 'str'>\n",
      "<class 'str'>\n",
      "<class 'str'>\n",
      "<class 'str'>\n",
      "<class 'str'>\n",
      "<class 'str'>\n"
     ]
    }
   ],
   "source": [
    "for key,value in enumerate(input_dict):\n",
    "    print(type(value))"
   ]
  },
  {
   "cell_type": "code",
   "execution_count": 9,
   "id": "5cfde493",
   "metadata": {},
   "outputs": [
    {
     "ename": "AttributeError",
     "evalue": "'dict' object has no attribute 'bet_ou'",
     "output_type": "error",
     "traceback": [
      "\u001b[0;31m---------------------------------------------------------------------------\u001b[0m",
      "\u001b[0;31mAttributeError\u001b[0m                            Traceback (most recent call last)",
      "\u001b[0;32m/var/folders/y3/pj6sydkn1fb5pgbx431_nmkr0000gn/T/ipykernel_45172/2906501892.py\u001b[0m in \u001b[0;36m<module>\u001b[0;34m\u001b[0m\n\u001b[0;32m----> 1\u001b[0;31m \u001b[0minput_dict\u001b[0m\u001b[0;34m.\u001b[0m\u001b[0mbet_ou\u001b[0m\u001b[0;34m\u001b[0m\u001b[0;34m\u001b[0m\u001b[0m\n\u001b[0m",
      "\u001b[0;31mAttributeError\u001b[0m: 'dict' object has no attribute 'bet_ou'"
     ]
    }
   ],
   "source": [
    "input_dict.bet_ou"
   ]
  },
  {
   "cell_type": "code",
   "execution_count": 10,
   "id": "abd496f5",
   "metadata": {},
   "outputs": [
    {
     "data": {
      "text/plain": [
       "'This'"
      ]
     },
     "execution_count": 10,
     "metadata": {},
     "output_type": "execute_result"
    }
   ],
   "source": [
    "input_dict['home_away']"
   ]
  },
  {
   "cell_type": "code",
   "execution_count": 11,
   "id": "79255534",
   "metadata": {},
   "outputs": [
    {
     "data": {
      "text/plain": [
       "<function dict.keys>"
      ]
     },
     "execution_count": 11,
     "metadata": {},
     "output_type": "execute_result"
    }
   ],
   "source": [
    "input_dict.keys"
   ]
  },
  {
   "cell_type": "code",
   "execution_count": null,
   "id": "a1b50d19",
   "metadata": {},
   "outputs": [],
   "source": []
  }
 ],
 "metadata": {
  "kernelspec": {
   "display_name": "mlenv",
   "language": "python",
   "name": "mlenv"
  },
  "language_info": {
   "codemirror_mode": {
    "name": "ipython",
    "version": 3
   },
   "file_extension": ".py",
   "mimetype": "text/x-python",
   "name": "python",
   "nbconvert_exporter": "python",
   "pygments_lexer": "ipython3",
   "version": "3.7.11"
  }
 },
 "nbformat": 4,
 "nbformat_minor": 5
}
