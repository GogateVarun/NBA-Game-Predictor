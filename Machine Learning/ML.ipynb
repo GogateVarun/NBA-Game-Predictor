{
 "cells": [
  {
   "cell_type": "code",
   "execution_count": null,
   "id": "135fd91e",
   "metadata": {},
   "outputs": [],
   "source": [
    "import pandas as pd\n",
    "import numpy as np\n",
    "import matplotlib.pyplot as plt"
   ]
  },
  {
   "cell_type": "code",
   "execution_count": null,
   "id": "2b87f87e",
   "metadata": {},
   "outputs": [],
   "source": [
    "df = pd.read_csv('vegas.txt')\n",
    "df"
   ]
  },
  {
   "cell_type": "code",
   "execution_count": null,
   "id": "2bc921dd",
   "metadata": {},
   "outputs": [],
   "source": [
    "df = df[['Date','Location','Team','OppTeam','TeamId','GameId','PercentBet_ML','Average_Line_ML','PercentBet_Spread','Average_Line_Spread','Average_Odds_Spread','PercentBet_OU','Average_Line_OU','Average_Odds_OU','Pts','Spread','Result','Total']]\n",
    "df"
   ]
  },
  {
   "cell_type": "code",
   "execution_count": null,
   "id": "7c2edb5a",
   "metadata": {},
   "outputs": [],
   "source": [
    "df.dtypes"
   ]
  },
  {
   "cell_type": "code",
   "execution_count": null,
   "id": "25707a76",
   "metadata": {},
   "outputs": [],
   "source": [
    "num_rows = len(df.index)\n",
    "num_cols = len(df.columns)"
   ]
  },
  {
   "cell_type": "code",
   "execution_count": null,
   "id": "ea2995cc",
   "metadata": {},
   "outputs": [],
   "source": [
    "spread_wl = []\n",
    "\n",
    "for i in np.arange(num_rows):\n",
    "    given_spread = df.iloc[i,9]\n",
    "    team_pts = df.iloc[i,14]\n",
    "    tot_pts = df.iloc[i,17]\n",
    "    opp_pts = tot_pts - team_pts\n",
    "    \n",
    "    if (given_spread + team_pts) > opp_pts:\n",
    "        spread_wl.append(1)\n",
    "    else:\n",
    "        spread_wl.append(0)\n",
    "        \n",
    "    \n",
    "        "
   ]
  },
  {
   "cell_type": "code",
   "execution_count": null,
   "id": "0c8985f8",
   "metadata": {},
   "outputs": [],
   "source": [
    "OU_wl = []\n",
    "\n",
    "for i in np.arange(num_rows):\n",
    "    given_OU = df.iloc[i,12]\n",
    "    actual_OU = df.iloc[i,17]\n",
    "    \n",
    "    if (actual_OU > given_OU):\n",
    "        OU_wl.append(1)\n",
    "    else:\n",
    "        OU_wl.append(0)"
   ]
  },
  {
   "cell_type": "code",
   "execution_count": null,
   "id": "17e61182",
   "metadata": {},
   "outputs": [],
   "source": [
    "ml_wl = []\n",
    "\n",
    "for i in np.arange(num_rows):\n",
    "    result = df.iloc[i,16]\n",
    "    \n",
    "    if result == 'W':\n",
    "        ml_wl.append(1)\n",
    "    else:\n",
    "        ml_wl.append(0)"
   ]
  },
  {
   "cell_type": "code",
   "execution_count": null,
   "id": "003a7274",
   "metadata": {},
   "outputs": [],
   "source": [
    "df['Spread WL'] = spread_wl\n",
    "df['Over/Under WL'] = OU_wl\n",
    "df['MoneyLine WL'] = ml_wl\n",
    "df"
   ]
  },
  {
   "cell_type": "code",
   "execution_count": null,
   "id": "57e41775",
   "metadata": {},
   "outputs": [],
   "source": [
    "# Cleaning the Data to the Point it could be fed to ML Algorithm\n",
    "# TeamId and GameId are taken out for the initial exploration of the data. If it is \n",
    "# determined we need more features / better correlation, we will merge more data \n",
    "# using these ID's\n",
    "\n",
    "# WE ARE FOCUSING ON JUST MONEYLINE AT THE MOMENT, SO WE WILL DROP SPREAD AND O/U WITH \n",
    "# THE INTENT OF REPEATING THIS PROCESS TO PREDICT THOSE LABELS AS WELL.\n",
    "\n",
    "df = df.drop(columns=['Date','Team','OppTeam','TeamId','GameId','Spread','Spread WL','Over/Under WL'])\n",
    "df"
   ]
  },
  {
   "cell_type": "code",
   "execution_count": null,
   "id": "697bc0ff",
   "metadata": {},
   "outputs": [],
   "source": [
    "# Now we need to focus on finding which features have correlation in order to include them \n",
    "# in the machine learning model."
   ]
  },
  {
   "cell_type": "code",
   "execution_count": null,
   "id": "a7d82886",
   "metadata": {},
   "outputs": [],
   "source": [
    "df.plot.scatter(x='PercentBet_ML',y='Average_Line_ML',c=df['MoneyLine WL'],colormap='Spectral')"
   ]
  },
  {
   "cell_type": "code",
   "execution_count": null,
   "id": "86913f21",
   "metadata": {},
   "outputs": [],
   "source": [
    "# This graph ^ shows good correlation. Most of the teams that are favored to win \n",
    "# (Negative ML) value did win. Only thing is that close to 0 (teams are presumed even)\n",
    "# it was a toss up. There seems to be a point around -300 where the favored team one a vast\n",
    "# majority of the time."
   ]
  },
  {
   "cell_type": "code",
   "execution_count": null,
   "id": "f63784ec",
   "metadata": {},
   "outputs": [],
   "source": [
    "df.plot.scatter(x='PercentBet_Spread',y='Average_Line_Spread',c='MoneyLine WL',colormap='Spectral')"
   ]
  },
  {
   "cell_type": "code",
   "execution_count": null,
   "id": "4b516ece",
   "metadata": {},
   "outputs": [],
   "source": [
    "# This graph is hard to determine a relationship. "
   ]
  },
  {
   "cell_type": "code",
   "execution_count": 2,
   "id": "e8cca4a2",
   "metadata": {},
   "outputs": [
    {
     "ename": "ModuleNotFoundError",
     "evalue": "No module named 'CleaningData'",
     "output_type": "error",
     "traceback": [
      "\u001b[0;31m---------------------------------------------------------------------------\u001b[0m",
      "\u001b[0;31mModuleNotFoundError\u001b[0m                       Traceback (most recent call last)",
      "\u001b[0;32m/var/folders/y3/pj6sydkn1fb5pgbx431_nmkr0000gn/T/ipykernel_19882/2793490453.py\u001b[0m in \u001b[0;36m<module>\u001b[0;34m\u001b[0m\n\u001b[0;32m----> 1\u001b[0;31m \u001b[0;32mfrom\u001b[0m \u001b[0mCleaningData\u001b[0m\u001b[0;34m.\u001b[0m\u001b[0mipynb\u001b[0m \u001b[0;32mimport\u001b[0m \u001b[0mdf\u001b[0m\u001b[0;34m\u001b[0m\u001b[0;34m\u001b[0m\u001b[0m\n\u001b[0m",
      "\u001b[0;31mModuleNotFoundError\u001b[0m: No module named 'CleaningData'"
     ]
    }
   ],
   "source": [
    "from CleaningData.ipynb import df"
   ]
  },
  {
   "cell_type": "code",
   "execution_count": null,
   "id": "9c6bf93b",
   "metadata": {},
   "outputs": [],
   "source": []
  }
 ],
 "metadata": {
  "kernelspec": {
   "display_name": "mlenv",
   "language": "python",
   "name": "mlenv"
  },
  "language_info": {
   "codemirror_mode": {
    "name": "ipython",
    "version": 3
   },
   "file_extension": ".py",
   "mimetype": "text/x-python",
   "name": "python",
   "nbconvert_exporter": "python",
   "pygments_lexer": "ipython3",
   "version": "3.7.11"
  }
 },
 "nbformat": 4,
 "nbformat_minor": 5
}
